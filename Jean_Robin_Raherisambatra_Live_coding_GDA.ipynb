{
 "cells": [
  {
   "cell_type": "markdown",
   "metadata": {
    "id": "g17Z46tmw2oZ"
   },
   "source": [
    "# GDA Implementation.\n",
    "\n",
    "Implement the Gaussian Discriminant Analysis (GDA) learning algorithm following the steps as discussed in class.\n",
    "\n",
    "INSTRUCTION: Rename your notebook as: <br>\n",
    "`firstName_LastName_Live_coding_GDA.ipynb`.\n",
    "\n",
    "Notes: \n",
    "* Do not use any built-in functions to complete a task;\n",
    "* Do not import additional libraries."
   ]
  },
  {
   "cell_type": "code",
   "execution_count": 132,
   "metadata": {
    "id": "aT5nlL-QTKwv"
   },
   "outputs": [],
   "source": [
    "import numpy as np\n",
    "import matplotlib.pyplot as plt\n",
    "from sklearn.datasets import make_classification"
   ]
  },
  {
   "cell_type": "code",
   "execution_count": 133,
   "metadata": {
    "colab": {
     "base_uri": "https://localhost:8080/"
    },
    "id": "_-lL4Yq9Tbzn",
    "outputId": "30937363-7f7e-4360-e123-b4cdb1ebe441"
   },
   "outputs": [
    {
     "name": "stdout",
     "output_type": "stream",
     "text": [
      "(1000, 3) (1000,)\n"
     ]
    }
   ],
   "source": [
    "# Generate data\n",
    "def generate_data():\n",
    "  x, y = make_classification(n_samples= 1000, n_features=3, n_redundant=0, \n",
    "                           n_informative=3, random_state=1, \n",
    "                           n_clusters_per_class=1)\n",
    "  \n",
    "  return x,y\n",
    "\n",
    "x,y= generate_data()\n",
    "# get data\n",
    "print(x.shape, y.shape)"
   ]
  },
  {
   "cell_type": "code",
   "execution_count": 134,
   "metadata": {},
   "outputs": [
    {
     "data": {
      "text/plain": [
       "array([[-0.42600458,  0.3092346 ,  1.13238592],\n",
       "       [ 0.23750039,  0.85236655,  1.27032566],\n",
       "       [-1.50956177,  0.57932947, -0.58204952],\n",
       "       ...,\n",
       "       [ 0.38796174,  1.01606996, -1.499496  ],\n",
       "       [-0.74578403,  1.56454128, -1.05700466],\n",
       "       [ 1.08716336, -0.29150009,  0.98548405]])"
      ]
     },
     "execution_count": 134,
     "metadata": {},
     "output_type": "execute_result"
    }
   ],
   "source": [
    "x"
   ]
  },
  {
   "cell_type": "code",
   "execution_count": 135,
   "metadata": {
    "id": "EUgiWLDhUAAK"
   },
   "outputs": [],
   "source": [
    "def split_data(x,y, train_size= 0.8):\n",
    "    # shuffle the data to randomize the train/test split\n",
    "  \n",
    "    n = int(len(x)*train_size)\n",
    "    indices = np.arange(len(x))\n",
    "    np.random.shuffle(indices)\n",
    "    train_idx = indices[: n]\n",
    "    test_idx = indices[n:]\n",
    "    X_train, y_train = x[train_idx], y[train_idx]\n",
    "    X_test, y_test = x[test_idx], y[test_idx]\n",
    "    return X_train,X_test,y_train,y_test"
   ]
  },
  {
   "cell_type": "code",
   "execution_count": 136,
   "metadata": {
    "colab": {
     "base_uri": "https://localhost:8080/"
    },
    "id": "Cr2Akm_A_FcJ",
    "outputId": "2b8f984d-f896-429f-8097-6fa9cba2d7dc"
   },
   "outputs": [
    {
     "name": "stdout",
     "output_type": "stream",
     "text": [
      "(800, 3) (800,) (200, 3) (200,)\n"
     ]
    }
   ],
   "source": [
    "X_train, X_test, y_train, y_test= split_data(x,y, train_size=0.8) # split your data into x_train, x_test, y_train, y_test\n",
    "print(X_train.shape, y_train.shape, X_test.shape, y_test.shape)"
   ]
  },
  {
   "cell_type": "code",
   "execution_count": 137,
   "metadata": {},
   "outputs": [
    {
     "data": {
      "text/plain": [
       "array([0, 1])"
      ]
     },
     "execution_count": 137,
     "metadata": {},
     "output_type": "execute_result"
    }
   ],
   "source": [
    "#class\n",
    "np.unique(y)"
   ]
  },
  {
   "cell_type": "code",
   "execution_count": 165,
   "metadata": {},
   "outputs": [],
   "source": [
    "# for label in range(2):\n",
    "#     bool_lean = (label==y)\n",
    "# bool_lean"
   ]
  },
  {
   "cell_type": "code",
   "execution_count": 224,
   "metadata": {},
   "outputs": [
    {
     "data": {
      "text/plain": [
       "502"
      ]
     },
     "execution_count": 224,
     "metadata": {},
     "output_type": "execute_result"
    }
   ],
   "source": [
    "for lab in range(2):\n",
    "    idx = np.where(y==lab,1,0)\n",
    "idx[idx==0]"
   ]
  },
  {
   "cell_type": "code",
   "execution_count": 138,
   "metadata": {},
   "outputs": [],
   "source": [
    "#   def compute_mu(x,y,k):\n",
    "#     d = x.shape[1]\n",
    "#     self.mu = np.zeros((k,d))\n",
    "#     for i in range(k):\n",
    "#         idx = np.where(y==i)\n",
    "#         x_trans = x[idx].T\n",
    "#         for j in range(d):\n",
    "#             self.mu[i,j]=np.mean(x_trans[j])\n",
    "#     return self.mu"
   ]
  },
  {
   "cell_type": "code",
   "execution_count": 139,
   "metadata": {},
   "outputs": [],
   "source": [
    "#   def compute_phi(self,x):\n",
    "#         d =x.shape[1]\n",
    "#         self.phi = np.zeros((d,1))\n",
    "#         x_trans =x.T\n",
    "#         for k in range(d):\n",
    "#             self.phi[k]=np.mean(x_trans[k])\n",
    "#         return self.phi"
   ]
  },
  {
   "cell_type": "code",
   "execution_count": 177,
   "metadata": {
    "id": "FrJ7GfXBHNxD"
   },
   "outputs": [],
   "source": [
    "def covariance(x, mu):\n",
    "    #mu.shape =(1,3) , x.shape =(m,3) for a single class\n",
    "    m,d = x.shape\n",
    "    cov =np.zeros((d,d))\n",
    "    for i in range(d):\n",
    "        for j in range(d):\n",
    "            cov[i,j] = np.sum((x[:, i] - mu[i]) * (x[:, j] - mu[j])) / (m - 1)\n",
    "    return cov\n",
    "                \n",
    "\n",
    "  # Easy way: cov= np.cov(x, rowvar=0) but do not use it. One can use it to assess his/her result.\n"
   ]
  },
  {
   "cell_type": "code",
   "execution_count": 178,
   "metadata": {},
   "outputs": [],
   "source": [
    "# def covariance1(x, mu):\n",
    "#     #mu.shape =(1,3) , x.shape =(m,3) for a single class\n",
    "#     m,d = x.shape\n",
    "#     sigma =np.zeros((d,d))\n",
    "#     for i in range(d):\n",
    "#         for j in range(d):\n",
    "#             sigma[i, j] = np.sum((x[:, i] - mu[i] )* (x[:, j] - mu[j])) / (m - 1)\n",
    "#     return sigma"
   ]
  },
  {
   "cell_type": "code",
   "execution_count": 179,
   "metadata": {},
   "outputs": [
    {
     "data": {
      "text/plain": [
       "array([[1.84495325, 0.02790646, 1.00137533],\n",
       "       [0.02790646, 1.00170721, 0.05539176],\n",
       "       [1.00137533, 0.05539176, 1.74832   ]])"
      ]
     },
     "execution_count": 179,
     "metadata": {},
     "output_type": "execute_result"
    }
   ],
   "source": [
    "np.cov(x,rowvar=0 )"
   ]
  },
  {
   "cell_type": "code",
   "execution_count": 180,
   "metadata": {},
   "outputs": [
    {
     "data": {
      "text/plain": [
       "array([[1.84495325, 0.02790646, 1.00137533],\n",
       "       [0.02790646, 1.00170721, 0.05539176],\n",
       "       [1.00137533, 0.05539176, 1.74832   ]])"
      ]
     },
     "execution_count": 180,
     "metadata": {},
     "output_type": "execute_result"
    }
   ],
   "source": [
    "covariance1(x, x.mean(0))"
   ]
  },
  {
   "cell_type": "code",
   "execution_count": 251,
   "metadata": {
    "id": "1ocKLDAfceF0"
   },
   "outputs": [],
   "source": [
    "class GDA:\n",
    "  def __init__(self):\n",
    "    ## set mu, phi and sigma to None\n",
    "    self.mu = None\n",
    "    self.phi = None\n",
    "    self.sigma = None\n",
    "\n",
    "  def fit(self,x,y):\n",
    "    k= len(np.unique(y)) # Number of class.\n",
    "    d=x.shape[1]  # input dim\n",
    "    m= x.shape[0] # Number of examples.\n",
    "    \n",
    "    ## Initialize mu, phi and sigma\n",
    "    self.mu=  np.zeros((k,d)) #: kxd, i.e., each row contains an individual class mu.\n",
    "    self.phi = np.zeros(k) #k-dimension\n",
    "    self.sigma= np.zeros((k,d,d))#: kxdxd, i.e., each row contains an individual class sigma.\n",
    "    for lab in range(k):\n",
    "        bool = (y==lab)\n",
    "        self.mu[lab]=np.mean(x[bool],axis=0)\n",
    "        self.phi[lab]=np.sum(bool)/m\n",
    "        self.sigma[lab] = covariance(x[bool],self.mu[lab])\n",
    "    \n",
    "\n",
    "    print(f'mu = {self.mu}')\n",
    "    print(f'phi = {self.phi}')\n",
    "    print(f'sigma = {self.sigma}')\n",
    "    return\n",
    "    \n",
    "\n",
    "  def predict_proba(self,x):\n",
    "    # reshape or flatt x.\n",
    "    d = x.shape[1]\n",
    "\n",
    "    k_class= self.mu.shape[0] # Number of classes we have in our case it's k = 2\n",
    "\n",
    "    ## START THE LEARNING: estimate mu, phi and sigma.\n",
    "    proba = np.zeros((x.shape[0],k_class))\n",
    "    for lab in range(k_class):\n",
    "      p_y = self.phi[lab]\n",
    "      for i in range(x.shape[0]):\n",
    "        proba[i,lab]=1/((2*np.pi)**(d/2)*np.linalg.det(self.sigma[lab])**0.5)*np.exp(-0.5*(x[i]-self.mu[lab]).T@np.linalg.inv(self.sigma[lab])@(x[i]-self.mu[lab]))*p_y\n",
    "        \n",
    "    return proba\n",
    "  \n",
    "  def predict(self,x):\n",
    "    probx = self.predict_proba(x)\n",
    "    y_pred = np.argmax(probx, axis=1)\n",
    "    return y_pred\n",
    "    \n",
    "  def accuracy(self, y, ypreds):\n",
    "        accur = np.mean(y==ypreds)*100\n",
    "        return accur\n",
    "    "
   ]
  },
  {
   "cell_type": "code",
   "execution_count": 252,
   "metadata": {
    "id": "l_qO0Yp1c3Is"
   },
   "outputs": [
    {
     "name": "stdout",
     "output_type": "stream",
     "text": [
      "mu = [[ 0.9285123   1.13174885  1.01552489]\n",
      " [-0.99842585  0.96249411 -0.93427136]]\n",
      "phi = [0.50625 0.49375]\n",
      "sigma = [[[ 0.87073059 -0.35599351 -0.05999768]\n",
      "  [-0.35599351  1.58635648  0.08263253]\n",
      "  [-0.05999768  0.08263253  0.03756345]]\n",
      "\n",
      " [[ 0.76206072  0.3278072   0.09112742]\n",
      "  [ 0.3278072   0.35757082 -0.09710484]\n",
      "  [ 0.09112742 -0.09710484  1.54362085]]]\n"
     ]
    }
   ],
   "source": [
    "model= GDA()\n",
    "model.fit(X_train,y_train)"
   ]
  },
  {
   "cell_type": "code",
   "execution_count": 253,
   "metadata": {
    "id": "NKY1eojY1l4e"
   },
   "outputs": [
    {
     "data": {
      "text/plain": [
       "array([[1.80768044e-006, 1.31011251e-002],\n",
       "       [2.20796026e-018, 3.60153732e-002],\n",
       "       [2.95396591e-013, 2.86586800e-002],\n",
       "       [7.58299211e-024, 1.18247007e-002],\n",
       "       [1.76991667e-056, 3.67759511e-003],\n",
       "       [7.55821241e-002, 1.17472781e-002],\n",
       "       [3.38084128e-004, 1.29843005e-002],\n",
       "       [1.35474794e-001, 9.90825423e-004],\n",
       "       [1.38596053e-001, 3.04074165e-003],\n",
       "       [1.12061804e-061, 3.00929895e-002],\n",
       "       [1.90920938e-067, 3.17944408e-002],\n",
       "       [6.70080820e-002, 3.29942398e-004],\n",
       "       [1.03279892e-041, 3.66959032e-002],\n",
       "       [7.78958281e-021, 1.07708576e-002],\n",
       "       [1.97188190e-002, 4.17102265e-013],\n",
       "       [4.18947220e-002, 1.08831051e-007],\n",
       "       [2.00216604e-033, 5.62411644e-002],\n",
       "       [3.78631077e-002, 3.54168499e-011],\n",
       "       [1.47876223e-006, 1.78903952e-002],\n",
       "       [8.49559473e-003, 2.65184512e-007],\n",
       "       [2.02346427e-034, 1.54990133e-002],\n",
       "       [1.07203920e-133, 5.99508568e-003],\n",
       "       [5.54468368e-002, 1.88206185e-004],\n",
       "       [1.90203167e-021, 4.37458900e-002],\n",
       "       [7.92888998e-023, 5.62938476e-002],\n",
       "       [1.91833282e-032, 1.04768583e-002],\n",
       "       [1.06538182e-003, 2.72414030e-003],\n",
       "       [1.01143152e-001, 5.57065555e-004],\n",
       "       [2.65932550e-014, 3.30256168e-002],\n",
       "       [8.44511823e-003, 5.85951168e-022],\n",
       "       [8.03419629e-131, 8.72605156e-003],\n",
       "       [3.07120252e-099, 1.85705526e-002],\n",
       "       [6.91741524e-083, 3.24973156e-002],\n",
       "       [3.71568027e-006, 3.47308269e-002],\n",
       "       [9.39093227e-002, 3.04175183e-004],\n",
       "       [9.77383069e-013, 4.87656822e-002],\n",
       "       [1.97307553e-002, 1.53071043e-005],\n",
       "       [1.60154811e-002, 2.57515341e-015],\n",
       "       [4.78857063e-003, 3.23440946e-003],\n",
       "       [5.40442651e-002, 1.58964589e-003],\n",
       "       [2.69333197e-003, 3.54557916e-016],\n",
       "       [3.70730229e-002, 2.28652941e-010],\n",
       "       [1.94556295e-107, 1.78225904e-002],\n",
       "       [1.32667069e-001, 3.98748748e-003],\n",
       "       [4.38235080e-102, 1.22862881e-002],\n",
       "       [1.07202745e-002, 1.01486199e-007],\n",
       "       [3.63353166e-002, 5.81890873e-011],\n",
       "       [3.33447561e-006, 1.77134447e-002],\n",
       "       [1.43405280e-059, 4.36133462e-002],\n",
       "       [3.62247827e-093, 2.60187011e-003],\n",
       "       [1.68917037e-010, 8.11344575e-004],\n",
       "       [9.29928155e-002, 1.53309071e-003],\n",
       "       [1.32318517e-002, 3.28869931e-006],\n",
       "       [3.67275281e-115, 1.59943681e-002],\n",
       "       [2.71464283e-002, 7.43675767e-006],\n",
       "       [2.94604420e-007, 2.88698256e-002],\n",
       "       [5.10576146e-006, 2.49836101e-003],\n",
       "       [7.12173723e-149, 6.67271539e-003],\n",
       "       [7.36506689e-096, 1.50201484e-002],\n",
       "       [6.18163948e-002, 6.21244007e-008],\n",
       "       [9.47275202e-045, 2.62214678e-002],\n",
       "       [1.98639470e-037, 4.33047592e-002],\n",
       "       [5.96274673e-180, 1.40792224e-003],\n",
       "       [3.14534453e-002, 2.99805901e-007],\n",
       "       [3.13461573e-008, 3.80547848e-002],\n",
       "       [3.47453904e-057, 2.03112375e-002],\n",
       "       [1.12428614e-001, 1.03843484e-003],\n",
       "       [2.10351460e-002, 1.21254407e-016],\n",
       "       [1.39923101e-003, 2.57023412e-020],\n",
       "       [9.86944029e-008, 2.61725694e-003],\n",
       "       [3.91201298e-050, 2.67503768e-004],\n",
       "       [3.76644530e-078, 4.89348739e-003],\n",
       "       [8.89984975e-035, 1.39292491e-002],\n",
       "       [1.32651774e-002, 1.43119315e-004],\n",
       "       [2.44295525e-002, 1.36762627e-007],\n",
       "       [2.41687145e-010, 6.08474833e-004],\n",
       "       [1.91941571e-044, 2.52399184e-002],\n",
       "       [1.06311341e-003, 7.25247773e-033],\n",
       "       [4.48157243e-002, 1.06502441e-004],\n",
       "       [4.46108806e-028, 4.95861329e-002],\n",
       "       [1.78160006e-002, 1.25196793e-007],\n",
       "       [7.42059622e-002, 2.52455976e-005],\n",
       "       [9.21830763e-002, 1.60579183e-003],\n",
       "       [1.02087691e-046, 5.42570671e-002],\n",
       "       [6.09258744e-002, 1.13703523e-008],\n",
       "       [1.01899420e-002, 3.42656019e-018],\n",
       "       [1.78383592e-002, 3.08460063e-015],\n",
       "       [6.02309907e-002, 9.55482409e-005],\n",
       "       [5.35934542e-035, 3.27294656e-002],\n",
       "       [4.72221124e-021, 1.61582375e-002],\n",
       "       [2.40475259e-016, 6.29174774e-003],\n",
       "       [1.14181763e-001, 1.03912023e-006],\n",
       "       [8.46195624e-002, 9.60357871e-007],\n",
       "       [4.95949807e-002, 4.95352010e-005],\n",
       "       [1.98101503e-008, 3.44093992e-002],\n",
       "       [1.32267240e-001, 2.92204961e-003],\n",
       "       [3.74047111e-005, 2.06438561e-002],\n",
       "       [2.35838097e-009, 1.59667172e-002],\n",
       "       [3.46701220e-148, 5.39513417e-003],\n",
       "       [3.00903959e-057, 3.72354184e-002],\n",
       "       [1.35695168e-002, 5.96174075e-005],\n",
       "       [1.87423678e-032, 2.87225759e-003],\n",
       "       [2.59212916e-003, 1.51080465e-003],\n",
       "       [1.03364358e-001, 8.87562785e-008],\n",
       "       [1.49504217e-004, 6.82711870e-003],\n",
       "       [4.42790964e-004, 7.01953268e-003],\n",
       "       [3.17897736e-070, 2.70984460e-002],\n",
       "       [2.66716887e-008, 3.82000903e-002],\n",
       "       [4.99533985e-003, 3.58024266e-009],\n",
       "       [1.96129174e-015, 1.56940647e-002],\n",
       "       [3.47755959e-021, 5.67235787e-002],\n",
       "       [1.72507839e-040, 3.30543900e-002],\n",
       "       [1.00995603e-001, 4.19143278e-004],\n",
       "       [6.97572993e-002, 5.15741045e-004],\n",
       "       [3.73241719e-003, 4.71335551e-011],\n",
       "       [1.03677049e-001, 3.46622438e-005],\n",
       "       [9.26470997e-003, 1.09479402e-012],\n",
       "       [1.57567044e-071, 3.30025718e-002],\n",
       "       [1.65175424e-002, 4.35537873e-004],\n",
       "       [2.24929555e-002, 9.86262177e-010],\n",
       "       [8.68675413e-005, 1.63476506e-002],\n",
       "       [9.91293424e-002, 1.42666137e-005],\n",
       "       [2.52605970e-038, 4.13832229e-002],\n",
       "       [2.87307741e-027, 2.76272553e-002],\n",
       "       [2.30110406e-002, 1.73186377e-006],\n",
       "       [1.47072612e-026, 4.86861525e-002],\n",
       "       [2.16075558e-033, 1.22709647e-002],\n",
       "       [1.16369824e-001, 7.66961883e-005],\n",
       "       [1.22393238e-002, 1.61940769e-010],\n",
       "       [7.94770165e-002, 1.90488874e-006],\n",
       "       [9.38249659e-002, 3.73211866e-005],\n",
       "       [4.33895996e-003, 5.38986632e-003],\n",
       "       [6.05106000e-003, 1.01857529e-003],\n",
       "       [3.10169096e-002, 3.23807005e-009],\n",
       "       [1.45127869e-011, 8.76327349e-003],\n",
       "       [8.49415708e-011, 2.49980428e-003],\n",
       "       [2.15688943e-002, 3.35977981e-013],\n",
       "       [9.88161936e-061, 2.74445726e-002],\n",
       "       [6.17924051e-003, 1.73886036e-005],\n",
       "       [8.41131240e-002, 4.49733555e-004],\n",
       "       [1.06761713e-003, 8.58311126e-019],\n",
       "       [1.76970069e-038, 2.48243408e-002],\n",
       "       [1.34655976e-001, 2.69432342e-003],\n",
       "       [2.84259058e-068, 2.82894795e-002],\n",
       "       [3.32491459e-002, 1.25872652e-009],\n",
       "       [2.35874895e-046, 5.10504623e-002],\n",
       "       [9.01902446e-014, 3.45234431e-002],\n",
       "       [3.03300977e-002, 1.95147678e-014],\n",
       "       [3.76148736e-075, 2.36465210e-002],\n",
       "       [1.33954767e-001, 3.30755701e-005],\n",
       "       [8.64695684e-002, 9.79613326e-004],\n",
       "       [3.05688529e-002, 6.59066982e-006],\n",
       "       [6.72871910e-002, 5.36798040e-009],\n",
       "       [3.12164782e-053, 1.27882001e-002],\n",
       "       [5.85919129e-002, 1.19511934e-003],\n",
       "       [1.93403774e-158, 1.34445363e-003],\n",
       "       [2.44206792e-002, 1.55295390e-003],\n",
       "       [1.10532776e-054, 1.88472605e-002],\n",
       "       [1.01589862e-001, 5.58744538e-007],\n",
       "       [3.66935299e-008, 1.49371722e-002],\n",
       "       [3.43875321e-003, 2.28119397e-012],\n",
       "       [1.43058093e-001, 1.53375380e-003],\n",
       "       [4.12108258e-002, 1.16257779e-007],\n",
       "       [2.50127774e-002, 3.13420217e-006],\n",
       "       [4.02747567e-073, 7.40851976e-003],\n",
       "       [5.89209728e-002, 2.55804026e-003],\n",
       "       [9.42119036e-002, 1.61701742e-004],\n",
       "       [8.26664464e-040, 2.84654833e-002],\n",
       "       [4.27918923e-002, 1.19370029e-004],\n",
       "       [3.77138808e-002, 5.67303642e-005],\n",
       "       [1.02951176e-002, 1.42211163e-002],\n",
       "       [6.97084103e-064, 1.75500973e-002],\n",
       "       [1.28696588e-060, 1.43701232e-002],\n",
       "       [2.41962492e-035, 3.52783452e-002],\n",
       "       [5.16871525e-002, 7.10551737e-008],\n",
       "       [7.62107614e-024, 1.00787036e-002],\n",
       "       [6.79896845e-089, 1.98737176e-003],\n",
       "       [9.45420723e-002, 2.81949664e-005],\n",
       "       [2.83559063e-002, 1.33849933e-002],\n",
       "       [8.20398142e-002, 3.46560217e-006],\n",
       "       [5.61368213e-115, 6.90137196e-003],\n",
       "       [1.80555083e-082, 1.01205406e-002],\n",
       "       [1.32599928e-033, 1.42608161e-002],\n",
       "       [5.16423847e-002, 5.37037614e-012],\n",
       "       [3.70083838e-002, 5.46449433e-004],\n",
       "       [1.41931412e-004, 2.36162269e-002],\n",
       "       [1.14541562e-002, 2.15110374e-012],\n",
       "       [3.83136730e-034, 2.55743945e-002],\n",
       "       [4.28035548e-017, 3.21622940e-002],\n",
       "       [3.02878942e-125, 2.48994294e-003],\n",
       "       [4.80299110e-002, 1.59446618e-010],\n",
       "       [5.30177377e-002, 3.53464442e-008],\n",
       "       [1.61405732e-159, 4.96740875e-003],\n",
       "       [6.10255278e-024, 7.37271855e-003],\n",
       "       [2.73125045e-047, 5.75185618e-002],\n",
       "       [6.26691649e-046, 2.16279171e-002],\n",
       "       [2.58422833e-002, 4.01558154e-007],\n",
       "       [8.82003890e-003, 7.52155356e-005],\n",
       "       [2.00244703e-026, 4.50609199e-002],\n",
       "       [1.02071322e-001, 3.75619370e-003]])"
      ]
     },
     "execution_count": 253,
     "metadata": {},
     "output_type": "execute_result"
    }
   ],
   "source": [
    "yproba= model.predict_proba(X_test)\n",
    "yproba"
   ]
  },
  {
   "cell_type": "code",
   "execution_count": 254,
   "metadata": {
    "id": "D4clV6PK1UJK"
   },
   "outputs": [
    {
     "data": {
      "text/plain": [
       "array([1, 1, 1, 1, 1, 0, 1, 0, 0, 1, 1, 0, 1, 1, 0, 0, 1, 0, 1, 0, 1, 1,\n",
       "       0, 1, 1, 1, 1, 0, 1, 0, 1, 1, 1, 1, 0, 1, 0, 0, 0, 0, 0, 0, 1, 0,\n",
       "       1, 0, 0, 1, 1, 1, 1, 0, 0, 1, 0, 1, 1, 1, 1, 0, 1, 1, 1, 0, 1, 1,\n",
       "       0, 0, 0, 1, 1, 1, 1, 0, 0, 1, 1, 0, 0, 1, 0, 0, 0, 1, 0, 0, 0, 0,\n",
       "       1, 1, 1, 0, 0, 0, 1, 0, 1, 1, 1, 1, 0, 1, 0, 0, 1, 1, 1, 1, 0, 1,\n",
       "       1, 1, 0, 0, 0, 0, 0, 1, 0, 0, 1, 0, 1, 1, 0, 1, 1, 0, 0, 0, 0, 1,\n",
       "       0, 0, 1, 1, 0, 1, 0, 0, 0, 1, 0, 1, 0, 1, 1, 0, 1, 0, 0, 0, 0, 1,\n",
       "       0, 1, 0, 1, 0, 1, 0, 0, 0, 0, 1, 0, 0, 1, 0, 0, 1, 1, 1, 1, 0, 1,\n",
       "       1, 0, 0, 0, 1, 1, 1, 0, 0, 1, 0, 1, 1, 1, 0, 0, 1, 1, 1, 1, 0, 0,\n",
       "       1, 0])"
      ]
     },
     "execution_count": 254,
     "metadata": {},
     "output_type": "execute_result"
    }
   ],
   "source": [
    "ypreds= model.predict(X_test)\n",
    "ypreds\n"
   ]
  },
  {
   "cell_type": "code",
   "execution_count": 255,
   "metadata": {
    "id": "QgG1xPUg1ULw"
   },
   "outputs": [
    {
     "data": {
      "text/plain": [
       "98.0"
      ]
     },
     "execution_count": 255,
     "metadata": {},
     "output_type": "execute_result"
    }
   ],
   "source": [
    "model.accuracy(y_test, ypreds)"
   ]
  },
  {
   "cell_type": "code",
   "execution_count": null,
   "metadata": {
    "id": "OpXYY-yj1UOj"
   },
   "outputs": [],
   "source": []
  },
  {
   "cell_type": "code",
   "execution_count": null,
   "metadata": {
    "id": "8cvRcUO2rtKo"
   },
   "outputs": [],
   "source": []
  }
 ],
 "metadata": {
  "colab": {
   "provenance": []
  },
  "kernelspec": {
   "display_name": "Python 3 (ipykernel)",
   "language": "python",
   "name": "python3"
  },
  "language_info": {
   "codemirror_mode": {
    "name": "ipython",
    "version": 3
   },
   "file_extension": ".py",
   "mimetype": "text/x-python",
   "name": "python",
   "nbconvert_exporter": "python",
   "pygments_lexer": "ipython3",
   "version": "3.9.13"
  }
 },
 "nbformat": 4,
 "nbformat_minor": 1
}
